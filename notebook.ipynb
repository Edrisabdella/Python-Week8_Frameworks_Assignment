{
  "cells": [
    {
      "cell_type": "markdown",
      "metadata": {},
      "source": [
        "# Frameworks Assignment \u2013 CORD-19 Data Analysis\nThis notebook contains steps to load, clean, analyze, and visualize the CORD-19 metadata."
      ]
    },
    {
      "cell_type": "code",
      "execution_count": null,
      "metadata": {},
      "outputs": [],
      "source": [
        "import pandas as pd\nimport matplotlib.pyplot as plt\nfrom wordcloud import WordCloud\n\n# Load\n\ndf = pd.read_csv('data/metadata.csv', low_memory=False)\ndf.head()"
      ]
    }
  ],
  "metadata": {
    "kernelspec": {
      "display_name": "Python 3",
      "language": "python",
      "name": "python3"
    },
    "language_info": {
      "name": "python",
      "version": "3.8"
    }
  },
  "nbformat": 4,
  "nbformat_minor": 4
}